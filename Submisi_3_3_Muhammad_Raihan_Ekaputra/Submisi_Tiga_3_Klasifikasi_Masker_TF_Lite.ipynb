{
  "nbformat": 4,
  "nbformat_minor": 0,
  "metadata": {
    "colab": {
      "name": "Submisi_Tiga_3_Klasifikasi_Masker_TF_Lite.ipynb",
      "provenance": [],
      "collapsed_sections": []
    },
    "kernelspec": {
      "name": "python3",
      "display_name": "Python 3"
    },
    "language_info": {
      "name": "python"
    }
  },
  "cells": [
    {
      "cell_type": "markdown",
      "metadata": {
        "id": "v-T4wGgCJr60"
      },
      "source": [
        "**Nama : Muhammad Raihan Ekaputra Idrisatria**\n",
        "\n",
        "**Asal : Universitas Brawijaya**"
      ]
    },
    {
      "cell_type": "code",
      "metadata": {
        "id": "CjQGgFdxJLPZ"
      },
      "source": [
        "import tensorflow as tf\n",
        "import matplotlib.pyplot as plt\n",
        "from tensorflow.keras.preprocessing.image import ImageDataGenerator\n",
        "from google.colab import files\n",
        "import os\n",
        "from tensorflow.keras.callbacks import EarlyStopping"
      ],
      "execution_count": 1,
      "outputs": []
    },
    {
      "cell_type": "code",
      "metadata": {
        "id": "_L7_rjUibHAR"
      },
      "source": [
        "base_dir=\"/content/drive/MyDrive/File Program MBKM/Submisi_Tiga_Muhammad_Raihan_Ekaputra/Submisi_Tiga_3_Klasifikasi_Gambar_TF_Lite/dataset\""
      ],
      "execution_count": 2,
      "outputs": []
    },
    {
      "cell_type": "code",
      "metadata": {
        "colab": {
          "base_uri": "https://localhost:8080/"
        },
        "id": "92ETjAJxbYVK",
        "outputId": "28535406-d064-4e31-c2b5-b5fc7519643f"
      },
      "source": [
        "os.listdir(base_dir)"
      ],
      "execution_count": 3,
      "outputs": [
        {
          "output_type": "execute_result",
          "data": {
            "text/plain": [
              "['without_mask', 'incorrect_mask', 'with_mask']"
            ]
          },
          "metadata": {},
          "execution_count": 3
        }
      ]
    },
    {
      "cell_type": "code",
      "metadata": {
        "id": "egEFtiVGdSvX"
      },
      "source": [
        "train_datagen = ImageDataGenerator(\n",
        "                    rescale=1./255,\n",
        "                    rotation_range=20,\n",
        "                    horizontal_flip=True,\n",
        "                    shear_range = 0.2,\n",
        "                    fill_mode = 'nearest',\n",
        "                    validation_split=0.2)"
      ],
      "execution_count": 4,
      "outputs": []
    },
    {
      "cell_type": "code",
      "metadata": {
        "colab": {
          "base_uri": "https://localhost:8080/"
        },
        "id": "7IHSAhltdalM",
        "outputId": "8377a832-0807-4596-e399-5aa1247981a3"
      },
      "source": [
        "train_gen=train_datagen.flow_from_directory(base_dir,\n",
        "                                            subset='training',\n",
        "                                            class_mode='categorical',\n",
        "                                            target_size=(150,150),\n",
        "                                            shuffle=True)\n",
        "\n",
        "validation_gen=train_datagen.flow_from_directory(base_dir,\n",
        "                                            subset='validation',\n",
        "                                            class_mode='categorical',\n",
        "                                            target_size=(150,150),\n",
        "                                            shuffle=True,)"
      ],
      "execution_count": 5,
      "outputs": [
        {
          "output_type": "stream",
          "name": "stdout",
          "text": [
            "Found 1664 images belonging to 3 classes.\n",
            "Found 415 images belonging to 3 classes.\n"
          ]
        }
      ]
    },
    {
      "cell_type": "code",
      "metadata": {
        "colab": {
          "base_uri": "https://localhost:8080/"
        },
        "id": "Be2pnoY0ddRl",
        "outputId": "c5ed95a2-6655-4eaa-bac2-6c93f93202dd"
      },
      "source": [
        "model = tf.keras.models.Sequential([\n",
        "    tf.keras.layers.Conv2D(32, (3,3), activation='relu', input_shape=(150,150,3)),\n",
        "    tf.keras.layers.MaxPooling2D(2, 2),\n",
        "    tf.keras.layers.Conv2D(64, (3,3), activation='relu'),\n",
        "    tf.keras.layers.MaxPooling2D(2,2),\n",
        "    tf.keras.layers.Conv2D(128, (3,3), activation='relu'),\n",
        "    tf.keras.layers.MaxPooling2D(2,2),\n",
        "    tf.keras.layers.Conv2D(128,(3,3),activation='relu'),\n",
        "    tf.keras.layers.Flatten(),\n",
        "    tf.keras.layers.Dense(64, activation='relu'),\n",
        "    tf.keras.layers.Dropout(0.2),\n",
        "    tf.keras.layers.Dense(240, activation='relu'),\n",
        "    tf.keras.layers.Dropout(0.2),\n",
        "    tf.keras.layers.Dense(240,activation='relu'),\n",
        "    tf.keras.layers.Dropout(0.2),\n",
        "    tf.keras.layers.Dense(128,activation='relu'),\n",
        "    tf.keras.layers.Dropout(0.2),\n",
        "    tf.keras.layers.Dense(64,activation='relu'),\n",
        "    tf.keras.layers.Dropout(0.2),\n",
        "    tf.keras.layers.Dense(3,activation='softmax')\n",
        "])\n",
        "\n",
        "model.summary()"
      ],
      "execution_count": 6,
      "outputs": [
        {
          "output_type": "stream",
          "name": "stdout",
          "text": [
            "Model: \"sequential\"\n",
            "_________________________________________________________________\n",
            "Layer (type)                 Output Shape              Param #   \n",
            "=================================================================\n",
            "conv2d (Conv2D)              (None, 148, 148, 32)      896       \n",
            "_________________________________________________________________\n",
            "max_pooling2d (MaxPooling2D) (None, 74, 74, 32)        0         \n",
            "_________________________________________________________________\n",
            "conv2d_1 (Conv2D)            (None, 72, 72, 64)        18496     \n",
            "_________________________________________________________________\n",
            "max_pooling2d_1 (MaxPooling2 (None, 36, 36, 64)        0         \n",
            "_________________________________________________________________\n",
            "conv2d_2 (Conv2D)            (None, 34, 34, 128)       73856     \n",
            "_________________________________________________________________\n",
            "max_pooling2d_2 (MaxPooling2 (None, 17, 17, 128)       0         \n",
            "_________________________________________________________________\n",
            "conv2d_3 (Conv2D)            (None, 15, 15, 128)       147584    \n",
            "_________________________________________________________________\n",
            "flatten (Flatten)            (None, 28800)             0         \n",
            "_________________________________________________________________\n",
            "dense (Dense)                (None, 64)                1843264   \n",
            "_________________________________________________________________\n",
            "dropout (Dropout)            (None, 64)                0         \n",
            "_________________________________________________________________\n",
            "dense_1 (Dense)              (None, 240)               15600     \n",
            "_________________________________________________________________\n",
            "dropout_1 (Dropout)          (None, 240)               0         \n",
            "_________________________________________________________________\n",
            "dense_2 (Dense)              (None, 240)               57840     \n",
            "_________________________________________________________________\n",
            "dropout_2 (Dropout)          (None, 240)               0         \n",
            "_________________________________________________________________\n",
            "dense_3 (Dense)              (None, 128)               30848     \n",
            "_________________________________________________________________\n",
            "dropout_3 (Dropout)          (None, 128)               0         \n",
            "_________________________________________________________________\n",
            "dense_4 (Dense)              (None, 64)                8256      \n",
            "_________________________________________________________________\n",
            "dropout_4 (Dropout)          (None, 64)                0         \n",
            "_________________________________________________________________\n",
            "dense_5 (Dense)              (None, 3)                 195       \n",
            "=================================================================\n",
            "Total params: 2,196,835\n",
            "Trainable params: 2,196,835\n",
            "Non-trainable params: 0\n",
            "_________________________________________________________________\n"
          ]
        }
      ]
    },
    {
      "cell_type": "code",
      "metadata": {
        "id": "J8p1u4nCdgC1"
      },
      "source": [
        "model.compile(loss='categorical_crossentropy',\n",
        "              optimizer='Nadam',\n",
        "              metrics=['accuracy'])"
      ],
      "execution_count": 7,
      "outputs": []
    },
    {
      "cell_type": "code",
      "metadata": {
        "colab": {
          "base_uri": "https://localhost:8080/"
        },
        "id": "qHUfpGYIdinV",
        "outputId": "76831105-2839-4684-bc55-5411ae783901"
      },
      "source": [
        "class myCallback(tf.keras.callbacks.Callback):\n",
        "  def on_epoch_end(self, epoch, logs={}):\n",
        "    if(logs.get('loss')<0.09) and (logs.get('val_loss')<0.09):\n",
        "      self.model.stop_training = True\n",
        "\n",
        "history=model.fit(\n",
        "        train_gen,\n",
        "        steps_per_epoch=15,  \n",
        "        epochs=100, \n",
        "        validation_data=validation_gen, \n",
        "        validation_steps=5,\n",
        "        verbose='auto',\n",
        "        callbacks=myCallback())  "
      ],
      "execution_count": 9,
      "outputs": [
        {
          "output_type": "stream",
          "name": "stdout",
          "text": [
            "Epoch 1/100\n",
            "15/15 [==============================] - 30s 2s/step - loss: 1.1057 - accuracy: 0.3604 - val_loss: 1.1037 - val_accuracy: 0.3313\n",
            "Epoch 2/100\n",
            "15/15 [==============================] - 27s 2s/step - loss: 1.0977 - accuracy: 0.3354 - val_loss: 1.0998 - val_accuracy: 0.3187\n",
            "Epoch 3/100\n",
            "15/15 [==============================] - 27s 2s/step - loss: 1.1033 - accuracy: 0.3708 - val_loss: 1.0915 - val_accuracy: 0.4938\n",
            "Epoch 4/100\n",
            "15/15 [==============================] - 27s 2s/step - loss: 1.0875 - accuracy: 0.3729 - val_loss: 0.9848 - val_accuracy: 0.6875\n",
            "Epoch 5/100\n",
            "15/15 [==============================] - 27s 2s/step - loss: 1.3867 - accuracy: 0.4396 - val_loss: 0.9290 - val_accuracy: 0.5625\n",
            "Epoch 6/100\n",
            "15/15 [==============================] - 27s 2s/step - loss: 0.8102 - accuracy: 0.6479 - val_loss: 0.5011 - val_accuracy: 0.7812\n",
            "Epoch 7/100\n",
            "15/15 [==============================] - 27s 2s/step - loss: 0.6372 - accuracy: 0.7729 - val_loss: 0.4231 - val_accuracy: 0.8562\n",
            "Epoch 8/100\n",
            "15/15 [==============================] - 27s 2s/step - loss: 0.5297 - accuracy: 0.8000 - val_loss: 0.4696 - val_accuracy: 0.8313\n",
            "Epoch 9/100\n",
            "15/15 [==============================] - 27s 2s/step - loss: 0.5462 - accuracy: 0.7875 - val_loss: 0.4123 - val_accuracy: 0.8313\n",
            "Epoch 10/100\n",
            "15/15 [==============================] - 26s 2s/step - loss: 0.4753 - accuracy: 0.8250 - val_loss: 0.4570 - val_accuracy: 0.8813\n",
            "Epoch 11/100\n",
            "15/15 [==============================] - 26s 2s/step - loss: 0.3787 - accuracy: 0.8583 - val_loss: 0.3552 - val_accuracy: 0.8687\n",
            "Epoch 12/100\n",
            "15/15 [==============================] - 27s 2s/step - loss: 0.7327 - accuracy: 0.7875 - val_loss: 0.3336 - val_accuracy: 0.8625\n",
            "Epoch 13/100\n",
            "15/15 [==============================] - 28s 2s/step - loss: 0.3331 - accuracy: 0.8708 - val_loss: 0.3338 - val_accuracy: 0.9062\n",
            "Epoch 14/100\n",
            "15/15 [==============================] - 27s 2s/step - loss: 0.3361 - accuracy: 0.8854 - val_loss: 0.4350 - val_accuracy: 0.8313\n",
            "Epoch 15/100\n",
            "15/15 [==============================] - 27s 2s/step - loss: 0.2641 - accuracy: 0.9125 - val_loss: 0.2108 - val_accuracy: 0.9312\n",
            "Epoch 16/100\n",
            "15/15 [==============================] - 27s 2s/step - loss: 0.2804 - accuracy: 0.8938 - val_loss: 0.2243 - val_accuracy: 0.9375\n",
            "Epoch 17/100\n",
            "15/15 [==============================] - 27s 2s/step - loss: 0.2499 - accuracy: 0.9083 - val_loss: 0.2311 - val_accuracy: 0.9312\n",
            "Epoch 18/100\n",
            "15/15 [==============================] - 27s 2s/step - loss: 0.1892 - accuracy: 0.9354 - val_loss: 0.2153 - val_accuracy: 0.9250\n",
            "Epoch 19/100\n",
            "15/15 [==============================] - 27s 2s/step - loss: 0.1539 - accuracy: 0.9354 - val_loss: 0.1901 - val_accuracy: 0.9500\n",
            "Epoch 20/100\n",
            "15/15 [==============================] - 27s 2s/step - loss: 0.2129 - accuracy: 0.9354 - val_loss: 0.1566 - val_accuracy: 0.9563\n",
            "Epoch 21/100\n",
            "15/15 [==============================] - 27s 2s/step - loss: 0.1822 - accuracy: 0.9396 - val_loss: 0.2748 - val_accuracy: 0.9125\n",
            "Epoch 22/100\n",
            "15/15 [==============================] - 26s 2s/step - loss: 0.1909 - accuracy: 0.9417 - val_loss: 0.1622 - val_accuracy: 0.9438\n",
            "Epoch 23/100\n",
            "15/15 [==============================] - 27s 2s/step - loss: 0.3980 - accuracy: 0.9146 - val_loss: 1.0303 - val_accuracy: 0.6250\n",
            "Epoch 24/100\n",
            "15/15 [==============================] - 26s 2s/step - loss: 0.5213 - accuracy: 0.7958 - val_loss: 0.2906 - val_accuracy: 0.9125\n",
            "Epoch 25/100\n",
            "15/15 [==============================] - 27s 2s/step - loss: 0.2666 - accuracy: 0.9146 - val_loss: 1.1483 - val_accuracy: 0.7500\n",
            "Epoch 26/100\n",
            "15/15 [==============================] - 27s 2s/step - loss: 0.2742 - accuracy: 0.9104 - val_loss: 0.1835 - val_accuracy: 0.9375\n",
            "Epoch 27/100\n",
            "15/15 [==============================] - 29s 2s/step - loss: 0.2393 - accuracy: 0.9312 - val_loss: 0.3515 - val_accuracy: 0.8875\n",
            "Epoch 28/100\n",
            "15/15 [==============================] - 27s 2s/step - loss: 0.2426 - accuracy: 0.9083 - val_loss: 0.1421 - val_accuracy: 0.9563\n",
            "Epoch 29/100\n",
            "15/15 [==============================] - 27s 2s/step - loss: 0.1598 - accuracy: 0.9396 - val_loss: 0.1412 - val_accuracy: 0.9438\n",
            "Epoch 30/100\n",
            "15/15 [==============================] - 27s 2s/step - loss: 0.1714 - accuracy: 0.9292 - val_loss: 0.3059 - val_accuracy: 0.9125\n",
            "Epoch 31/100\n",
            "15/15 [==============================] - 27s 2s/step - loss: 0.1294 - accuracy: 0.9521 - val_loss: 0.1403 - val_accuracy: 0.9625\n",
            "Epoch 32/100\n",
            "15/15 [==============================] - 27s 2s/step - loss: 0.1617 - accuracy: 0.9542 - val_loss: 0.1063 - val_accuracy: 0.9625\n",
            "Epoch 33/100\n",
            "15/15 [==============================] - 27s 2s/step - loss: 0.1372 - accuracy: 0.9500 - val_loss: 0.0788 - val_accuracy: 0.9937\n",
            "Epoch 34/100\n",
            "15/15 [==============================] - 27s 2s/step - loss: 0.0806 - accuracy: 0.9750 - val_loss: 0.2392 - val_accuracy: 0.9500\n",
            "Epoch 35/100\n",
            "15/15 [==============================] - 27s 2s/step - loss: 0.0737 - accuracy: 0.9792 - val_loss: 0.1975 - val_accuracy: 0.9500\n",
            "Epoch 36/100\n",
            "15/15 [==============================] - 28s 2s/step - loss: 0.1323 - accuracy: 0.9667 - val_loss: 1.1435 - val_accuracy: 0.6687\n",
            "Epoch 37/100\n",
            "15/15 [==============================] - 27s 2s/step - loss: 0.9488 - accuracy: 0.8271 - val_loss: 0.1334 - val_accuracy: 0.9625\n",
            "Epoch 38/100\n",
            "15/15 [==============================] - 26s 2s/step - loss: 0.2246 - accuracy: 0.9312 - val_loss: 0.2612 - val_accuracy: 0.9312\n",
            "Epoch 39/100\n",
            "15/15 [==============================] - 27s 2s/step - loss: 0.2094 - accuracy: 0.9354 - val_loss: 0.1605 - val_accuracy: 0.9563\n",
            "Epoch 40/100\n",
            "15/15 [==============================] - 27s 2s/step - loss: 0.1215 - accuracy: 0.9542 - val_loss: 0.3682 - val_accuracy: 0.8750\n",
            "Epoch 41/100\n",
            "15/15 [==============================] - 26s 2s/step - loss: 0.2299 - accuracy: 0.9417 - val_loss: 0.1173 - val_accuracy: 0.9688\n",
            "Epoch 42/100\n",
            "15/15 [==============================] - 27s 2s/step - loss: 0.1113 - accuracy: 0.9667 - val_loss: 0.1552 - val_accuracy: 0.9625\n",
            "Epoch 43/100\n",
            "15/15 [==============================] - 26s 2s/step - loss: 0.1129 - accuracy: 0.9604 - val_loss: 0.0943 - val_accuracy: 0.9750\n",
            "Epoch 44/100\n",
            "15/15 [==============================] - 27s 2s/step - loss: 0.1011 - accuracy: 0.9708 - val_loss: 0.2104 - val_accuracy: 0.9375\n",
            "Epoch 45/100\n",
            "15/15 [==============================] - 27s 2s/step - loss: 0.0755 - accuracy: 0.9771 - val_loss: 0.2330 - val_accuracy: 0.9375\n",
            "Epoch 46/100\n",
            "15/15 [==============================] - 27s 2s/step - loss: 0.1136 - accuracy: 0.9625 - val_loss: 0.0801 - val_accuracy: 0.9688\n",
            "Epoch 47/100\n",
            "15/15 [==============================] - 26s 2s/step - loss: 0.0911 - accuracy: 0.9688 - val_loss: 0.4905 - val_accuracy: 0.8750\n",
            "Epoch 48/100\n",
            "15/15 [==============================] - 26s 2s/step - loss: 0.1035 - accuracy: 0.9688 - val_loss: 0.1155 - val_accuracy: 0.9750\n",
            "Epoch 49/100\n",
            "15/15 [==============================] - 26s 2s/step - loss: 0.0615 - accuracy: 0.9875 - val_loss: 0.2600 - val_accuracy: 0.9625\n",
            "Epoch 50/100\n",
            "15/15 [==============================] - 26s 2s/step - loss: 0.0539 - accuracy: 0.9750 - val_loss: 0.0952 - val_accuracy: 0.9812\n",
            "Epoch 51/100\n",
            "15/15 [==============================] - 27s 2s/step - loss: 0.0929 - accuracy: 0.9771 - val_loss: 0.1379 - val_accuracy: 0.9625\n",
            "Epoch 52/100\n",
            "15/15 [==============================] - 27s 2s/step - loss: 0.0636 - accuracy: 0.9750 - val_loss: 0.1434 - val_accuracy: 0.9812\n",
            "Epoch 53/100\n",
            "15/15 [==============================] - 27s 2s/step - loss: 0.1120 - accuracy: 0.9583 - val_loss: 0.1489 - val_accuracy: 0.9312\n",
            "Epoch 54/100\n",
            "15/15 [==============================] - 27s 2s/step - loss: 0.0586 - accuracy: 0.9771 - val_loss: 2.0607 - val_accuracy: 0.7250\n",
            "Epoch 55/100\n",
            "15/15 [==============================] - 26s 2s/step - loss: 1.5292 - accuracy: 0.6938 - val_loss: 0.3993 - val_accuracy: 0.8500\n",
            "Epoch 56/100\n",
            "15/15 [==============================] - 27s 2s/step - loss: 0.4271 - accuracy: 0.8562 - val_loss: 0.2550 - val_accuracy: 0.9000\n",
            "Epoch 57/100\n",
            "15/15 [==============================] - 26s 2s/step - loss: 0.2302 - accuracy: 0.9292 - val_loss: 0.1283 - val_accuracy: 0.9688\n",
            "Epoch 58/100\n",
            "15/15 [==============================] - 26s 2s/step - loss: 0.1745 - accuracy: 0.9396 - val_loss: 0.1225 - val_accuracy: 0.9688\n",
            "Epoch 59/100\n",
            "15/15 [==============================] - 27s 2s/step - loss: 0.0990 - accuracy: 0.9708 - val_loss: 0.1047 - val_accuracy: 0.9688\n",
            "Epoch 60/100\n",
            "15/15 [==============================] - 26s 2s/step - loss: 0.1329 - accuracy: 0.9521 - val_loss: 0.1121 - val_accuracy: 0.9812\n",
            "Epoch 61/100\n",
            "15/15 [==============================] - 26s 2s/step - loss: 0.0546 - accuracy: 0.9854 - val_loss: 0.1496 - val_accuracy: 0.9625\n",
            "Epoch 62/100\n",
            "15/15 [==============================] - 27s 2s/step - loss: 0.0891 - accuracy: 0.9688 - val_loss: 0.2251 - val_accuracy: 0.9312\n",
            "Epoch 63/100\n",
            "15/15 [==============================] - 26s 2s/step - loss: 0.2399 - accuracy: 0.9354 - val_loss: 0.2364 - val_accuracy: 0.9250\n",
            "Epoch 64/100\n",
            "15/15 [==============================] - 27s 2s/step - loss: 0.1452 - accuracy: 0.9583 - val_loss: 0.1507 - val_accuracy: 0.9625\n",
            "Epoch 65/100\n",
            "15/15 [==============================] - 26s 2s/step - loss: 0.0986 - accuracy: 0.9708 - val_loss: 0.1451 - val_accuracy: 0.9500\n",
            "Epoch 66/100\n",
            "15/15 [==============================] - 26s 2s/step - loss: 0.1174 - accuracy: 0.9625 - val_loss: 0.1080 - val_accuracy: 0.9688\n",
            "Epoch 67/100\n",
            "15/15 [==============================] - 26s 2s/step - loss: 0.0676 - accuracy: 0.9812 - val_loss: 0.0661 - val_accuracy: 0.9812\n"
          ]
        }
      ]
    },
    {
      "cell_type": "code",
      "metadata": {
        "colab": {
          "base_uri": "https://localhost:8080/",
          "height": 500
        },
        "id": "w2kDfC-fpMua",
        "outputId": "f6b0065a-4ccc-4d63-91b2-8885a11c683c"
      },
      "source": [
        "plt.figure(figsize=(10,8))\n",
        "plt.subplot(121)\n",
        "plt.plot(history.history['val_accuracy'])\n",
        "plt.plot(history.history['accuracy'])\n",
        "plt.subplot(122)\n",
        "plt.plot(history.history['loss'])\n",
        "plt.plot(history.history['val_loss'])"
      ],
      "execution_count": 10,
      "outputs": [
        {
          "output_type": "execute_result",
          "data": {
            "text/plain": [
              "[<matplotlib.lines.Line2D at 0x7efbb1b0df50>]"
            ]
          },
          "metadata": {},
          "execution_count": 10
        },
        {
          "output_type": "display_data",
          "data": {
            "image/png": "[encoded data removed]",
            "text/plain": [
              "<Figure size 720x576 with 2 Axes>"
            ]
          },
          "metadata": {
            "needs_background": "light"
          }
        }
      ]
    },
    {
      "cell_type": "code",
      "metadata": {
        "colab": {
          "base_uri": "https://localhost:8080/"
        },
        "id": "ksLdkce-ppPZ",
        "outputId": "bb712a13-f130-4f5d-93f9-96e6136a277d"
      },
      "source": [
        "!pip install tensorflowjs"
      ],
      "execution_count": 11,
      "outputs": [
        {
          "output_type": "stream",
          "name": "stdout",
          "text": [
            "Requirement already satisfied: tensorflowjs in /usr/local/lib/python3.7/dist-packages (3.9.0)\n",
            "Requirement already satisfied: tensorflow<3,>=2.1.0 in /usr/local/lib/python3.7/dist-packages (from tensorflowjs) (2.6.0)\n",
            "Requirement already satisfied: tensorflow-hub<0.13,>=0.7.0 in /usr/local/lib/python3.7/dist-packages (from tensorflowjs) (0.12.0)\n",
            "Requirement already satisfied: six<2,>=1.12.0 in /usr/local/lib/python3.7/dist-packages (from tensorflowjs) (1.15.0)\n",
            "Requirement already satisfied: numpy~=1.19.2 in /usr/local/lib/python3.7/dist-packages (from tensorflow<3,>=2.1.0->tensorflowjs) (1.19.5)\n",
            "Requirement already satisfied: astunparse~=1.6.3 in /usr/local/lib/python3.7/dist-packages (from tensorflow<3,>=2.1.0->tensorflowjs) (1.6.3)\n",
            "Requirement already satisfied: grpcio<2.0,>=1.37.0 in /usr/local/lib/python3.7/dist-packages (from tensorflow<3,>=2.1.0->tensorflowjs) (1.39.0)\n",
            "Requirement already satisfied: protobuf>=3.9.2 in /usr/local/lib/python3.7/dist-packages (from tensorflow<3,>=2.1.0->tensorflowjs) (3.17.3)\n",
            "Requirement already satisfied: wheel~=0.35 in /usr/local/lib/python3.7/dist-packages (from tensorflow<3,>=2.1.0->tensorflowjs) (0.37.0)\n",
            "Requirement already satisfied: wrapt~=1.12.1 in /usr/local/lib/python3.7/dist-packages (from tensorflow<3,>=2.1.0->tensorflowjs) (1.12.1)\n",
            "Requirement already satisfied: keras~=2.6 in /usr/local/lib/python3.7/dist-packages (from tensorflow<3,>=2.1.0->tensorflowjs) (2.6.0)\n",
            "Requirement already satisfied: gast==0.4.0 in /usr/local/lib/python3.7/dist-packages (from tensorflow<3,>=2.1.0->tensorflowjs) (0.4.0)\n",
            "Requirement already satisfied: google-pasta~=0.2 in /usr/local/lib/python3.7/dist-packages (from tensorflow<3,>=2.1.0->tensorflowjs) (0.2.0)\n",
            "Requirement already satisfied: typing-extensions~=3.7.4 in /usr/local/lib/python3.7/dist-packages (from tensorflow<3,>=2.1.0->tensorflowjs) (3.7.4.3)\n",
            "Requirement already satisfied: termcolor~=1.1.0 in /usr/local/lib/python3.7/dist-packages (from tensorflow<3,>=2.1.0->tensorflowjs) (1.1.0)\n",
            "Requirement already satisfied: h5py~=3.1.0 in /usr/local/lib/python3.7/dist-packages (from tensorflow<3,>=2.1.0->tensorflowjs) (3.1.0)\n",
            "Requirement already satisfied: tensorboard~=2.6 in /usr/local/lib/python3.7/dist-packages (from tensorflow<3,>=2.1.0->tensorflowjs) (2.6.0)\n",
            "Requirement already satisfied: opt-einsum~=3.3.0 in /usr/local/lib/python3.7/dist-packages (from tensorflow<3,>=2.1.0->tensorflowjs) (3.3.0)\n",
            "Requirement already satisfied: tensorflow-estimator~=2.6 in /usr/local/lib/python3.7/dist-packages (from tensorflow<3,>=2.1.0->tensorflowjs) (2.6.0)\n",
            "Requirement already satisfied: flatbuffers~=1.12.0 in /usr/local/lib/python3.7/dist-packages (from tensorflow<3,>=2.1.0->tensorflowjs) (1.12)\n",
            "Requirement already satisfied: absl-py~=0.10 in /usr/local/lib/python3.7/dist-packages (from tensorflow<3,>=2.1.0->tensorflowjs) (0.12.0)\n",
            "Requirement already satisfied: keras-preprocessing~=1.1.2 in /usr/local/lib/python3.7/dist-packages (from tensorflow<3,>=2.1.0->tensorflowjs) (1.1.2)\n",
            "Requirement already satisfied: clang~=5.0 in /usr/local/lib/python3.7/dist-packages (from tensorflow<3,>=2.1.0->tensorflowjs) (5.0)\n",
            "Requirement already satisfied: cached-property in /usr/local/lib/python3.7/dist-packages (from h5py~=3.1.0->tensorflow<3,>=2.1.0->tensorflowjs) (1.5.2)\n",
            "Requirement already satisfied: werkzeug>=0.11.15 in /usr/local/lib/python3.7/dist-packages (from tensorboard~=2.6->tensorflow<3,>=2.1.0->tensorflowjs) (1.0.1)\n",
            "Requirement already satisfied: markdown>=2.6.8 in /usr/local/lib/python3.7/dist-packages (from tensorboard~=2.6->tensorflow<3,>=2.1.0->tensorflowjs) (3.3.4)\n",
            "Requirement already satisfied: google-auth-oauthlib<0.5,>=0.4.1 in /usr/local/lib/python3.7/dist-packages (from tensorboard~=2.6->tensorflow<3,>=2.1.0->tensorflowjs) (0.4.5)\n",
            "Requirement already satisfied: tensorboard-plugin-wit>=1.6.0 in /usr/local/lib/python3.7/dist-packages (from tensorboard~=2.6->tensorflow<3,>=2.1.0->tensorflowjs) (1.8.0)\n",
            "Requirement already satisfied: requests<3,>=2.21.0 in /usr/local/lib/python3.7/dist-packages (from tensorboard~=2.6->tensorflow<3,>=2.1.0->tensorflowjs) (2.23.0)\n",
            "Requirement already satisfied: tensorboard-data-server<0.7.0,>=0.6.0 in /usr/local/lib/python3.7/dist-packages (from tensorboard~=2.6->tensorflow<3,>=2.1.0->tensorflowjs) (0.6.1)\n",
            "Requirement already satisfied: setuptools>=41.0.0 in /usr/local/lib/python3.7/dist-packages (from tensorboard~=2.6->tensorflow<3,>=2.1.0->tensorflowjs) (57.4.0)\n",
            "Requirement already satisfied: google-auth<2,>=1.6.3 in /usr/local/lib/python3.7/dist-packages (from tensorboard~=2.6->tensorflow<3,>=2.1.0->tensorflowjs) (1.34.0)\n",
            "Requirement already satisfied: rsa<5,>=3.1.4 in /usr/local/lib/python3.7/dist-packages (from google-auth<2,>=1.6.3->tensorboard~=2.6->tensorflow<3,>=2.1.0->tensorflowjs) (4.7.2)\n",
            "Requirement already satisfied: cachetools<5.0,>=2.0.0 in /usr/local/lib/python3.7/dist-packages (from google-auth<2,>=1.6.3->tensorboard~=2.6->tensorflow<3,>=2.1.0->tensorflowjs) (4.2.2)\n",
            "Requirement already satisfied: pyasn1-modules>=0.2.1 in /usr/local/lib/python3.7/dist-packages (from google-auth<2,>=1.6.3->tensorboard~=2.6->tensorflow<3,>=2.1.0->tensorflowjs) (0.2.8)\n",
            "Requirement already satisfied: requests-oauthlib>=0.7.0 in /usr/local/lib/python3.7/dist-packages (from google-auth-oauthlib<0.5,>=0.4.1->tensorboard~=2.6->tensorflow<3,>=2.1.0->tensorflowjs) (1.3.0)\n",
            "Requirement already satisfied: importlib-metadata in /usr/local/lib/python3.7/dist-packages (from markdown>=2.6.8->tensorboard~=2.6->tensorflow<3,>=2.1.0->tensorflowjs) (4.6.4)\n",
            "Requirement already satisfied: pyasn1<0.5.0,>=0.4.6 in /usr/local/lib/python3.7/dist-packages (from pyasn1-modules>=0.2.1->google-auth<2,>=1.6.3->tensorboard~=2.6->tensorflow<3,>=2.1.0->tensorflowjs) (0.4.8)\n",
            "Requirement already satisfied: idna<3,>=2.5 in /usr/local/lib/python3.7/dist-packages (from requests<3,>=2.21.0->tensorboard~=2.6->tensorflow<3,>=2.1.0->tensorflowjs) (2.10)\n",
            "Requirement already satisfied: chardet<4,>=3.0.2 in /usr/local/lib/python3.7/dist-packages (from requests<3,>=2.21.0->tensorboard~=2.6->tensorflow<3,>=2.1.0->tensorflowjs) (3.0.4)\n",
            "Requirement already satisfied: certifi>=2017.4.17 in /usr/local/lib/python3.7/dist-packages (from requests<3,>=2.21.0->tensorboard~=2.6->tensorflow<3,>=2.1.0->tensorflowjs) (2021.5.30)\n",
            "Requirement already satisfied: urllib3!=1.25.0,!=1.25.1,<1.26,>=1.21.1 in /usr/local/lib/python3.7/dist-packages (from requests<3,>=2.21.0->tensorboard~=2.6->tensorflow<3,>=2.1.0->tensorflowjs) (1.24.3)\n",
            "Requirement already satisfied: oauthlib>=3.0.0 in /usr/local/lib/python3.7/dist-packages (from requests-oauthlib>=0.7.0->google-auth-oauthlib<0.5,>=0.4.1->tensorboard~=2.6->tensorflow<3,>=2.1.0->tensorflowjs) (3.1.1)\n",
            "Requirement already satisfied: zipp>=0.5 in /usr/local/lib/python3.7/dist-packages (from importlib-metadata->markdown>=2.6.8->tensorboard~=2.6->tensorflow<3,>=2.1.0->tensorflowjs) (3.5.0)\n"
          ]
        }
      ]
    },
    {
      "cell_type": "code",
      "metadata": {
        "colab": {
          "base_uri": "https://localhost:8080/"
        },
        "id": "tGZGF7Hypzx6",
        "outputId": "fdbcf834-473c-462d-be0c-15ba68fd53f6"
      },
      "source": [
        "path_model='/content/Submisi_Tiga_Klasifikasi_Masker_TF_Lite/'\n",
        "tf.saved_model.save(model,path_model)"
      ],
      "execution_count": 12,
      "outputs": [
        {
          "output_type": "stream",
          "name": "stdout",
          "text": [
            "INFO:tensorflow:Assets written to: /content/Submisi_Tiga_Klasifikasi_Masker_TF_Lite/assets\n"
          ]
        }
      ]
    },
    {
      "cell_type": "code",
      "metadata": {
        "colab": {
          "base_uri": "https://localhost:8080/"
        },
        "id": "Ktj4dTDEqTg2",
        "outputId": "bc853798-ab59-42ec-8018-0d8186b50306"
      },
      "source": [
        "!tensorflowjs_converter \\\n",
        "  --input_format=tf_saved_model \\\n",
        "  /content/Submisi_Tiga_Klasifikasi_Masker_TF_Lite \\\n",
        "  /content/modeltfjs"
      ],
      "execution_count": 13,
      "outputs": [
        {
          "output_type": "stream",
          "name": "stdout",
          "text": [
            "2021-09-15 11:11:38.263515: E tensorflow/stream_executor/cuda/cuda_driver.cc:271] failed call to cuInit: CUDA_ERROR_NO_DEVICE: no CUDA-capable device is detected\n",
            "2021-09-15 11:11:38.263570: I tensorflow/stream_executor/cuda/cuda_diagnostics.cc:156] kernel driver does not appear to be running on this host (3c3b1c474818): /proc/driver/nvidia/version does not exist\n",
            "2021-09-15 11:11:38.263975: I tensorflow/core/platform/cpu_feature_guard.cc:142] This TensorFlow binary is optimized with oneAPI Deep Neural Network Library (oneDNN) to use the following CPU instructions in performance-critical operations:  AVX512F\n",
            "To enable them in other operations, rebuild TensorFlow with the appropriate compiler flags.\n",
            "2021-09-15 11:11:39.060091: I tensorflow/core/grappler/devices.cc:66] Number of eligible GPUs (core count >= 8, compute capability >= 0.0): 0\n",
            "2021-09-15 11:11:39.060341: I tensorflow/core/grappler/clusters/single_machine.cc:357] Starting new session\n",
            "2021-09-15 11:11:39.066798: I tensorflow/core/grappler/optimizers/meta_optimizer.cc:1137] Optimization results for grappler item: graph_to_optimize\n",
            "  function_optimizer: Graph size after: 108 nodes (84), 147 edges (123), time = 2.515ms.\n",
            "  function_optimizer: function_optimizer did nothing. time = 0.038ms.\n",
            "\n",
            "2021-09-15 11:11:39.456730: I tensorflow/core/grappler/optimizers/meta_optimizer.cc:1137] Optimization results for grappler item: graph_to_optimize\n",
            "  debug_stripper: debug_stripper did nothing. time = 0.034ms.\n",
            "  model_pruner: Graph size after: 81 nodes (-27), 120 edges (-27), time = 0.824ms.\n",
            "  constant_folding: Graph size after: 61 nodes (-20), 100 edges (-20), time = 50.717ms.\n",
            "  arithmetic_optimizer: Graph size after: 61 nodes (0), 100 edges (0), time = 5.963ms.\n",
            "  dependency_optimizer: Graph size after: 57 nodes (-4), 56 edges (-44), time = 2.652ms.\n",
            "  model_pruner: Graph size after: 57 nodes (0), 56 edges (0), time = 2.467ms.\n",
            "  constant_folding: Graph size after: 57 nodes (0), 56 edges (0), time = 12.145ms.\n",
            "  arithmetic_optimizer: Graph size after: 57 nodes (0), 56 edges (0), time = 6.215ms.\n",
            "  dependency_optimizer: Graph size after: 57 nodes (0), 56 edges (0), time = 2.494ms.\n",
            "  debug_stripper: debug_stripper did nothing. time = 0.398ms.\n",
            "  model_pruner: Graph size after: 57 nodes (0), 56 edges (0), time = 1.991ms.\n",
            "  constant_folding: Graph size after: 57 nodes (0), 56 edges (0), time = 11.923ms.\n",
            "  arithmetic_optimizer: Graph size after: 57 nodes (0), 56 edges (0), time = 6.009ms.\n",
            "  dependency_optimizer: Graph size after: 57 nodes (0), 56 edges (0), time = 2.205ms.\n",
            "  model_pruner: Graph size after: 57 nodes (0), 56 edges (0), time = 2.072ms.\n",
            "  constant_folding: Graph size after: 57 nodes (0), 56 edges (0), time = 10.912ms.\n",
            "  arithmetic_optimizer: Graph size after: 57 nodes (0), 56 edges (0), time = 5.635ms.\n",
            "  dependency_optimizer: Graph size after: 57 nodes (0), 56 edges (0), time = 2.169ms.\n",
            "\n",
            "2021-09-15 11:11:39.763745: I tensorflow/core/grappler/optimizers/meta_optimizer.cc:1137] Optimization results for grappler item: graph_to_optimize\n",
            "  remapper: Graph size after: 38 nodes (-19), 37 edges (-19), time = 24.022ms.\n",
            "  constant_folding: Graph size after: 38 nodes (0), 37 edges (0), time = 13.63ms.\n",
            "  arithmetic_optimizer: Graph size after: 38 nodes (0), 37 edges (0), time = 6.476ms.\n",
            "  dependency_optimizer: Graph size after: 38 nodes (0), 37 edges (0), time = 2.693ms.\n",
            "  remapper: Graph size after: 38 nodes (0), 37 edges (0), time = 2.374ms.\n",
            "  constant_folding: Graph size after: 38 nodes (0), 37 edges (0), time = 7.725ms.\n",
            "  arithmetic_optimizer: Graph size after: 38 nodes (0), 37 edges (0), time = 5.358ms.\n",
            "  dependency_optimizer: Graph size after: 38 nodes (0), 37 edges (0), time = 2.185ms.\n",
            "\n",
            "Writing weight file /content/modeltfjs/model.json...\n"
          ]
        }
      ]
    }
  ]
}